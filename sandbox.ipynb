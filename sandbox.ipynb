{
 "cells": [
  {
   "cell_type": "markdown",
   "metadata": {},
   "source": [
    "Counting dry spells in precipitation data\n",
    "=========================================\n",
    "\n",
    "## What is a dry spell?\n",
    "\n",
    "\n",
    "#### **A dry spell** is a period in which every pentad (5 days period) receives a precipitation amount < 5mm\n",
    "\n",
    "\n",
    "Alternative definitions exist: **a)** A pentad (5 days period) that receives a precipitation < 5mm.\n",
    "**b)** A pentad (5 days period) or more that receives an average precipitation < 1mm per day\n",
    "**c)** A period of 5 or more days, in which each day receives <1mm precipitation. Some definitions use a minimum period of 3 days instead of 5 days.\n",
    "\n",
    "## Example\n",
    "Consider the precipitation pattern\n",
    "\n",
    "```\n",
    "0 0 0 2 2 0 2 0 1 0\n",
    "```\n",
    "* With **Our Definition** this pattern counts one dry spell of length 6. Then, we go on to look for the next dry spell from day 7.\n",
    "\n",
    "```\n",
    "         0 0 0 2 2 0 2 0 1 0\n",
    "         v v v v v                      (dry spell)\n",
    "           v v v v v                    (dry spell)\n",
    "             x x x x x                  (wet spell)\n",
    "\n",
    "```\n",
    "\n",
    "\n",
    "* With **Definition a** this pattern counts two dry spells (dry pentads).\n",
    "With this definition, one studies the length of dry spells in terms of consecutive dry pentads.\n",
    "* With **Definition b** the same pattern counts one dry spell of length 10.\n",
    "Also, both the patterns `0 0 0 0 2 0 2 2 2` and `0 0 0 0 0 0 0 0 5 4` count one dry spell of length 10 altough they both contain a wet pentad.\n",
    "* With **Definition c** this pattern counts no dry spell.\n"
   ]
  },
  {
   "cell_type": "markdown",
   "metadata": {},
   "source": [
    "## Implementation with Python + xarray"
   ]
  },
  {
   "cell_type": "markdown",
   "metadata": {},
   "source": [
    "### I - Prerequiste\n",
    "\n",
    "#### **Compute pentad precipitation**\n",
    "Suppose we have a daily precipitation data `ds_precip_daily` with dimensions `(day, lat, lon)` with `day = 365 or 366` for a year. We make a copy of it that stores pentad precipitation.\n",
    "```\n",
    "ds_precip_pentad[day=i] = ds_precip_daily[day=(i, i+4)]\n",
    "``` "
   ]
  },
  {
   "cell_type": "code",
   "execution_count": 30,
   "metadata": {},
   "outputs": [],
   "source": [
    "def use_days(data):\n",
    "    '''Most data have datetime dimensions, change the time dimension into dayofthe year '''\n",
    "    data_with_days = data.assign_coords(day=precip['time.dayofyear'])\n",
    "    data_with_days = data_with_days.swap_dims({'time': 'day'})\n",
    "    return data_with_days\n",
    "\n",
    "def pentad(precip):\n",
    "    precip = use_days(precip)\n",
    "    pentad_precip = xr.zeros_like(precip)\n",
    "    for t0 in range(1, precip.day.size+1-4):  # assume \n",
    "        pentad_precip.loc[dict(day=t0)] = precip.loc[dict(day=slice(t0,t0+4))].sum(dim='day')\n",
    "    pentad_precip = pentad_precip.swap_dims({'day': 'time'})\n",
    "    return pentad_precip"
   ]
  },
  {
   "cell_type": "code",
   "execution_count": 31,
   "metadata": {
    "lines_to_next_cell": 2
   },
   "outputs": [],
   "source": [
    "import xarray as xr\n",
    "import numpy as np\n",
    "file = 'gpcc-precipitation-madagascar-2000.nc'\n",
    "ds_disk = xr.open_dataset(file)\n",
    "precip = ds_disk['precip']\n",
    "precip_pentad = pentad(precip)"
   ]
  },
  {
   "cell_type": "markdown",
   "metadata": {},
   "source": [
    "#### **Mark dry pentads**\n",
    "Now we transform our `pentad_precip` data into 0s or 1s depending on whether the precipitation of the pentad is less than the threshold. "
   ]
  },
  {
   "cell_type": "code",
   "execution_count": 32,
   "metadata": {},
   "outputs": [],
   "source": [
    "thresh = 5\n",
    "dry_pentad = xr.where(precip_pentad<thresh, 1, 0)"
   ]
  },
  {
   "cell_type": "markdown",
   "metadata": {},
   "source": [
    "#### **Find dry spells**\n",
    "To find the dry spells, we are going to work at a point (lat, lon) (not sure if a better method exists).\n",
    "For example if at a given (lat, lon) starting from day 1, \n",
    "* if dry_pentads[1:13]= 1 1 0 1 0 0 0 0 0 0 0 0: dry spell of length 6 from day 1\n",
    "* if dry_pentads[1:13]= 0 1 1 1 0 0 0 0 0 0 0 0: dry spell of length 7 from day 2\n",
    "* if dry_pentads[1:13]= 0 1 0 1 0 0 0 1 0 0 0 0: dry spells of length 5 from day 2 and from day 8\n"
   ]
  },
  {
   "cell_type": "markdown",
   "metadata": {},
   "source": [
    "**Stack** transform (lat, lon) into a single two-dimensional dimension"
   ]
  },
  {
   "cell_type": "code",
   "execution_count": 33,
   "metadata": {},
   "outputs": [],
   "source": [
    "stacked_precip = precip.stack(z=('lon', 'lat'))\n",
    "stacked_dry_pentad = dry_pentad.stack(z=('lon', 'lat'))\n",
    "stacked_precip = precip.stack(z=('lon', 'lat'))\n",
    "stacked_dry_pentad = dry_pentad.stack(z=('lon', 'lat'))\n",
    "stacked_dry_pentad = stacked_dry_pentad.swap_dims({'time': 'day'})"
   ]
  },
  {
   "cell_type": "markdown",
   "metadata": {},
   "source": [
    "**Algorithm 1** recursively locate the end of a dry spell. The algorithm receives as input, \n",
    "* a series of 0s and 1s (dimension: day). `series[time=t_0] = 1` when a dry pentad starts at `t_0`.  \n",
    "* a day at which a dry spell starts\n",
    "* the begining and end of the interval where to find the end of the dry spells\n",
    "\n",
    "Basically the algorithm looks for the longest series of 1s starting from `day_start`"
   ]
  },
  {
   "cell_type": "code",
   "execution_count": 92,
   "metadata": {},
   "outputs": [],
   "source": [
    "def find_spell_at_interval(series, day_start, begin, end):\n",
    "    '''look for the end of dry spell at interval, divide and conquer'''\n",
    "    #pdb.set_trace()\n",
    "    if end >= series.size:\n",
    "        return find_spell_at_interval(series, day_start, begin, end-1)\n",
    "    if end - begin <= 1:\n",
    "        if series.loc[dict(day=end)] == 1:\n",
    "            return (end - day_start + 1)\n",
    "        else:\n",
    "            return (begin - day_start + 1)\n",
    "    else:\n",
    "        mid = ((begin+end)//2)\n",
    "        if series.loc[dict(day=slice(day_start, mid))].sum() > mid-day_start+0.99: # i.e all ones from day_start to mid\n",
    "            return find_spell_at_interval(series, day_start, mid, end)\n",
    "        else:\n",
    "            return find_spell_at_interval(series, day_start, begin, mid)\n"
   ]
  },
  {
   "cell_type": "markdown",
   "metadata": {},
   "source": [
    "**Algorithm** skip the points (x,y) outside region, the precipitation data of these are all 0s. We also skip each day which is not the start of a dry pentad."
   ]
  },
  {
   "cell_type": "code",
   "execution_count": null,
   "metadata": {},
   "outputs": [],
   "source": [
    "dry_spell = xr.zeros_like(stacked_dry_pentad)\n",
    "\n",
    "for xy in dry_spell.z:\n",
    "    series = stacked_dry_pentad.loc[dict(z=xy)]\n",
    "    day_start = 1\n",
    "    while day_start <= dry_spell.day.size-thresh+1:\n",
    "        if stacked_precip.loc[dict(z=xy)].sum(dim='time') < thresh:   # for xy outside region, all zero, eliminate them\n",
    "            print(\"outside\")\n",
    "            break\n",
    "        wet = False\n",
    "        if stacked_dry_pentad.loc[dict(day=day_start,z=xy)] == 0:\n",
    "            day_start += 1\n",
    "            wet = True\n",
    "        elif  stacked_dry_pentad.loc[dict(z=xy, day=slice(day_start, day_start+19))].sum(dim='day') >= 19.5:\n",
    "            spell_len = find_spell_at_interval(series, day_start, day_start+19, dry_spell.day.size+1)\n",
    "            print(\"above 20 for day_start=\", day_start, spell_len)\n",
    "        else:\n",
    "            spell_len = find_spell_at_interval(series, day_start, day_start+4, day_start+19)\n",
    "            print(\"below 20 for day_start=\", day_start, spell_len)\n",
    "        if not wet:\n",
    "            dry_spell.loc[dict(day=day_start,z=xy)] = spell_len\n",
    "            day_start += spell_len\n",
    "dry_spell = dry_spell.unstack().swap_dims({'day': 'time'})\n",
    "dry_spell.name = 'spells'\n",
    "dry_spell_zeros_ones = xr.where(dry_spell > 4, 1, 0)\n",
    "print(dry_spell.sum(dim='time').values)\n"
   ]
  },
  {
   "cell_type": "code",
   "execution_count": 37,
   "metadata": {},
   "outputs": [
    {
     "data": {
      "text/plain": [
       "array([0, 0, 0, 0, 0, 0, 0, 0, 5, 0, 0, 0, 0, 0, 0, 5, 5, 5, 5, 5, 5, 0,\n",
       "       4, 4, 4, 0, 0, 0, 4, 5, 4, 5, 5, 4, 4, 5, 4, 4, 4, 3, 0, 0, 0, 4,\n",
       "       0, 5, 4, 4, 4, 4, 4, 3, 3, 2, 3, 3, 0, 0, 5, 0, 5, 5, 3, 4, 4, 4,\n",
       "       4, 3, 4, 3, 3, 0, 0, 0, 0, 5, 5, 5, 5, 3, 3, 4, 4, 4, 3, 3, 4, 5,\n",
       "       0, 6, 0, 0, 0, 3, 3, 3, 4, 2, 3, 3, 4, 4, 5, 4, 0, 0, 0, 0, 0, 0,\n",
       "       0, 2, 2, 3, 3, 3, 4, 4, 6, 6, 0, 0, 0, 0, 0, 0, 0, 0, 0, 3, 4, 4,\n",
       "       4, 0, 0, 0, 0, 0, 0, 0, 0, 0, 0, 0, 0, 0, 0, 0, 0, 0, 0, 0, 0, 0,\n",
       "       0, 0, 0, 0, 0, 0, 0, 0, 0, 0, 0, 0, 0, 0, 0, 0, 0, 0, 0, 0, 0, 0,\n",
       "       0, 0, 0, 0])"
      ]
     },
     "execution_count": 37,
     "metadata": {},
     "output_type": "execute_result"
    }
   ],
   "source": [
    "dspells = dry_spells(precip, thresh)\n"
   ]
  },
  {
   "cell_type": "markdown",
   "metadata": {},
   "source": [
    "#### **COMBINING INTO ONE FUNCTION**\n",
    "and return an xarray data 2D (lat, lon) for one year, with dry_spell.frequency (number of dry spells) and dry_spell.average_length"
   ]
  },
  {
   "cell_type": "code",
   "execution_count": null,
   "metadata": {},
   "outputs": [],
   "source": [
    "import xarray as xr\n",
    "import numpy as np\n",
    "from tqdm import tqdm\n",
    "file = 'gpcc-precipitation-madagascar-2000.nc'\n",
    "file = 'interpolated-chirps-v2-region-2000.nc'\n",
    "ds_disk = xr.open_dataset(file)\n",
    "precip = ds_disk['precip']\n",
    "thresh = 5\n",
    "\n",
    "def use_days(data):\n",
    "    '''Most data have datetime dimensions, change the time dimension into dayofthe year '''\n",
    "    data_with_days = data.assign_coords(day=precip['time.dayofyear'])\n",
    "    data_with_days = data_with_days.swap_dims({'time': 'day'})\n",
    "    return data_with_days\n",
    "\n",
    "def pentad(precip):\n",
    "    precip = use_days(precip)\n",
    "    pentad_precip = xr.zeros_like(precip)\n",
    "    for t0 in range(1, precip.day.size+1-4):  # assume \n",
    "        pentad_precip.loc[dict(day=t0)] = precip.loc[dict(day=slice(t0,t0+4))].sum(dim='day')\n",
    "    return pentad_precip\n",
    "\n",
    "def find_spell_at_interval(series, day_start, begin, end):\n",
    "    '''look for the end of dry spell at interval, divide and conquer'''\n",
    "    #pdb.set_trace()\n",
    "    if end > series.size:\n",
    "        return find_spell_at_interval(series, day_start, begin, end-1)\n",
    "    if end - begin <= 1:\n",
    "        if series.loc[dict(day=end)] == 1:\n",
    "            return (end - day_start + 1)\n",
    "        else:\n",
    "            return (begin - day_start + 1)\n",
    "    else:\n",
    "        mid = ((begin+end)//2)\n",
    "        if series.loc[dict(day=slice(day_start, mid))].sum() > mid-day_start+0.99: # i.e all ones from day_start to mid\n",
    "            return find_spell_at_interval(series, day_start, mid, end)\n",
    "        else:\n",
    "            return find_spell_at_interval(series, day_start, begin, mid)\n",
    "        \n",
    "def dry_spells(precip):\n",
    "    precip_pentad = pentad(precip)    \n",
    "    dry_pentad = xr.where(precip_pentad<thresh, 1, 0)\n",
    "    stacked_precip = precip.stack(z=('lat', 'lon'))\n",
    "    stacked_dry_pentad = dry_pentad.stack(z=('lat', 'lon'))\n",
    "    dry_spell = xr.zeros_like(stacked_dry_pentad)\n",
    "    stacked_precip = precip.stack(z=('lat', 'lon'))\n",
    "    stacked_dry_pentad = dry_pentad.stack(z=('lat', 'lon'))\n",
    "    #stacked_dry_pentad = stacked_dry_pentad.swap_dims({'time': 'day'})\n",
    "    for xy in tqdm(dry_spell.z):\n",
    "        series = stacked_dry_pentad.loc[dict(z=xy)]\n",
    "        day_start = 1\n",
    "        while day_start <= dry_spell.day.size-thresh+1:\n",
    "            if stacked_precip.loc[dict(z=xy)].sum(dim='time') < thresh:   # for xy outside region, all zero, eliminate them\n",
    "                break\n",
    "            wet = False\n",
    "            if stacked_dry_pentad.loc[dict(day=day_start,z=xy)] == 0:\n",
    "                day_start += 1\n",
    "                wet = True\n",
    "            elif  stacked_dry_pentad.loc[dict(z=xy, day=slice(day_start, day_start+19))].sum(dim='day') >= 19.5:\n",
    "                spell_len = find_spell_at_interval(series, day_start, day_start+19, dry_spell.day.size+1)\n",
    "            else:\n",
    "                spell_len = find_spell_at_interval(series, day_start, day_start+4, day_start+19)\n",
    "            if not wet:\n",
    "                dry_spell.loc[dict(day=day_start,z=xy)] = spell_len\n",
    "                day_start += spell_len\n",
    "    dry_spell = dry_spell.unstack().swap_dims({'day': 'time'})\n",
    "    dry_spell_len_sum = dry_spell.sum(dim='time')\n",
    "    dry_spell_zeros_ones = xr.where(dry_spell > 4, 1, 0)\n",
    "    dry_spell_count = dry_spell_zeros_ones.sum(dim='time')\n",
    "    dry_spell_count.name = 'freq'\n",
    "    dry_spell_len_ave = xr.where(dry_spell_count>0.5, dry_spell_len_sum/dry_spell_count, 0)\n",
    "    dry_spell_len_ave.name = 'average_len'\n",
    "    dry_spell = xr.merge([dry_spell_count, dry_spell_len_ave])\n",
    "    return dry_spell\n",
    "    \n",
    "chirps_spells = dry_spells(precip)"
   ]
  },
  {
   "cell_type": "code",
   "execution_count": 97,
   "metadata": {},
   "outputs": [
    {
     "data": {
      "text/plain": [
       "<matplotlib.collections.QuadMesh at 0x7fa0d0764ad0>"
      ]
     },
     "execution_count": 97,
     "metadata": {},
     "output_type": "execute_result"
    },
    {
     "data": {
      "image/png": "[encoded data removed]",
      "text/plain": [
       "<Figure size 432x288 with 2 Axes>"
      ]
     },
     "metadata": {
      "needs_background": "light"
     },
     "output_type": "display_data"
    }
   ],
   "source": [
    "chirps_spells.average_len.plot()"
   ]
  },
  {
   "cell_type": "code",
   "execution_count": 98,
   "metadata": {},
   "outputs": [
    {
     "data": {
      "text/plain": [
       "<matplotlib.collections.QuadMesh at 0x7fa0cbf99510>"
      ]
     },
     "execution_count": 98,
     "metadata": {},
     "output_type": "execute_result"
    },
    {
     "data": {
      "image/png": "[encoded data removed]",
      "text/plain": [
       "<Figure size 432x288 with 2 Axes>"
      ]
     },
     "metadata": {
      "needs_background": "light"
     },
     "output_type": "display_data"
    }
   ],
   "source": [
    "chirps_spells.freq.plot()"
   ]
  },
  {
   "cell_type": "code",
   "execution_count": null,
   "metadata": {},
   "outputs": [],
   "source": []
  }
 ],
 "metadata": {
  "jupytext": {
   "formats": "ipynb,py"
  },
  "kernelspec": {
   "display_name": "Python 3",
   "language": "python",
   "name": "python3"
  },
  "language_info": {
   "codemirror_mode": {
    "name": "ipython",
    "version": 3
   },
   "file_extension": ".py",
   "mimetype": "text/x-python",
   "name": "python",
   "nbconvert_exporter": "python",
   "pygments_lexer": "ipython3",
   "version": "3.7.6"
  }
 },
 "nbformat": 4,
 "nbformat_minor": 4
}
