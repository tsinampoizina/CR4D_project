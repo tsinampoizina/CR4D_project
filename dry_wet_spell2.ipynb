{
 "cells": [
  {
   "cell_type": "markdown",
   "metadata": {},
   "source": [
    "Counting dry spells in rainfall data:\n",
    "====================================\n",
    "\n",
    "* there seems no general method\n",
    "\n",
    "\n",
    "* A period of 5 days or more that receives precipitation amount <= 5mm\n",
    "\n",
    "Consider the precipitation pattern `0 0 0 0 2 2 2 1 1 0`\n",
    "\n",
    "This pattern satisfies this definition of a dry spell of length 10, here we notice that threre is a wet pentad inside this dry spell. \n",
    "\n",
    "The same is true for the precip patterns `0 0 0 0 0 0 2 3 2 2`, `0 0 0 0 0 0 0 0 5 4`   which with this definition are both counted as a dry spell of length 10.\n",
    "\n",
    "* A pentad (5 days period) that receives amount <= 5mm, but directly consecutive pentads are combined into one dry spell\n",
    "\n",
    "Consider\n",
    "```\n",
    "         0 0 0 0 2 2 2 1 1 0\n",
    "         v v v v v\n",
    "           v v v v v\n",
    "             x x x x x\n",
    "```      \n",
    "In this definition we get a dry spell of length 6. And we look for another dry spell starting from day 7."
   ]
  },
  {
   "cell_type": "code",
   "execution_count": 23,
   "metadata": {},
   "outputs": [],
   "source": [
    "import xarray as xr\n",
    "import numpy as np\n",
    "import pdb\n",
    "array = xr.DataArray(np.random.normal(20,15,[2, 3, 10]), coords=[('x', ['a', 'b']), ('y', [0, 1, 2]), ('t',range(1,11))])\n",
    "array.name = 'precip'\n",
    "#stacked = array.stack(z=('x', 'y'))\n",
    "#stacked_old = stacked.copy()"
   ]
  },
  {
   "cell_type": "code",
   "execution_count": 32,
   "metadata": {},
   "outputs": [
    {
     "name": "stdout",
     "output_type": "stream",
     "text": [
      "<xarray.DataArray 'precip' (x: 2, y: 3, t: 10)>\n",
      "array([[[23.33409066, 21.72168246, 21.46295567, 20.13718791,\n",
      "         14.21980491, 13.07535104,  0.        ,  0.        ,\n",
      "          0.        ,  0.        ],\n",
      "        [26.31426854, 21.04311151, 22.71542126, 21.32899849,\n",
      "         21.20283165, 22.98485142,  0.        ,  0.        ,\n",
      "          0.        ,  0.        ],\n",
      "        [24.03715331, 27.35725814, 17.58732769, 19.2026438 ,\n",
      "         18.12980643, 25.1095319 ,  0.        ,  0.        ,\n",
      "          0.        ,  0.        ]],\n",
      "\n",
      "       [[ 6.43524869,  8.86591011, 14.98409156, 20.89476822,\n",
      "         24.93932708, 25.89136497,  0.        ,  0.        ,\n",
      "          0.        ,  0.        ],\n",
      "        [24.20049151, 22.36108523, 22.07247563, 23.88758202,\n",
      "         23.21355437, 25.37008494,  0.        ,  0.        ,\n",
      "          0.        ,  0.        ],\n",
      "        [41.09481308, 39.63519364, 34.29727583, 35.95715532,\n",
      "         28.29181877, 23.98399843,  0.        ,  0.        ,\n",
      "          0.        ,  0.        ]]])\n",
      "Coordinates:\n",
      "  * x        (x) <U1 'a' 'b'\n",
      "  * y        (y) int64 0 1 2\n",
      "  * t        (t) int64 1 2 3 4 5 6 7 8 9 10\n",
      "<xarray.DataArray 'precip' (x: 2, y: 3, t: 10)>\n",
      "array([[[ 29.5864479 ,  17.2607611 ,  20.19152722,  52.74086738,\n",
      "          -3.10915031,  21.52440694,  15.96712713,  13.56268844,\n",
      "          23.15395236,  -8.83141966],\n",
      "        [ 45.8517118 ,  22.24615411,  31.89417193,  18.52930046,\n",
      "          13.05000439,  19.49592666,  30.60770285,  24.96205809,\n",
      "          17.89846627,  21.96010324],\n",
      "        [ 21.84490412,  35.77778772,  19.58242816,  40.71930353,\n",
      "           2.26134303,  38.44542825, -13.07186454,  27.65900872,\n",
      "          35.35511667,  37.15997038]],\n",
      "\n",
      "       [[ 11.54292839,   1.11543775,   2.436762  ,  17.37203193,\n",
      "          -0.2909166 ,  23.69623547,  31.70634498,  31.99014529,\n",
      "          37.59482628,   4.46927285],\n",
      "        [ 21.16400169,  27.37394859,  26.42881414,  33.3000811 ,\n",
      "          12.73561205,  11.96697027,  25.9309006 ,  35.50434606,\n",
      "          29.92994288,  23.5182649 ],\n",
      "        [ 35.07203277,  39.1719888 ,  28.71992861,  55.25893923,\n",
      "          47.25117598,  27.7739356 ,  12.48239972,  37.01932607,\n",
      "          16.93225648,  25.71207426]]])\n",
      "Coordinates:\n",
      "  * x        (x) <U1 'a' 'b'\n",
      "  * y        (y) int64 0 1 2\n",
      "  * t        (t) int64 1 2 3 4 5 6 7 8 9 10\n"
     ]
    }
   ],
   "source": [
    "five_days_average = xr.zeros_like(array)\n",
    "for t0 in range(1, array.t.size+1-4):\n",
    "    five_days_average.loc[dict(t=t0)] = array.loc[dict(t=slice(t0,t0+4))].mean(dim='t')\n",
    "print(five_days_average)\n",
    "print(array)"
   ]
  },
  {
   "cell_type": "code",
   "execution_count": 34,
   "metadata": {},
   "outputs": [
    {
     "data": {
      "text/plain": [
       "23.334090658"
      ]
     },
     "execution_count": 34,
     "metadata": {},
     "output_type": "execute_result"
    }
   ],
   "source": [
    "np.array([29.5864479 ,  17.2607611 ,  20.19152722,  52.74086738,\n",
    "          -3.10915031]).mean()"
   ]
  },
  {
   "cell_type": "code",
   "execution_count": null,
   "metadata": {},
   "outputs": [],
   "source": []
  }
 ],
 "metadata": {
  "kernelspec": {
   "display_name": "Python 3",
   "language": "python",
   "name": "python3"
  },
  "language_info": {
   "codemirror_mode": {
    "name": "ipython",
    "version": 3
   },
   "file_extension": ".py",
   "mimetype": "text/x-python",
   "name": "python",
   "nbconvert_exporter": "python",
   "pygments_lexer": "ipython3",
   "version": "3.7.6"
  }
 },
 "nbformat": 4,
 "nbformat_minor": 4
}
