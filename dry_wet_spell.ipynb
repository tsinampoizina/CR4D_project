{
 "cells": [
  {
   "cell_type": "markdown",
   "metadata": {},
   "source": [
    "The average precipitation over wet days for each period  [mm/d or kg/m²/s]\n",
    " -------------------------------------------------------------------------\n",
    "\n",
    " Let $\\mathbf{p}=𝑝_0,𝑝_1,\\ldots,𝑝_𝑛$ be the daily precipitation and\n",
    "$\\mathit{threshold}$ be the precipitation threshold to define a wet day.\n",
    "Then the average rainfall intensity over wet days is defined as\n",
    "\n",
    " $$\n",
    " \\frac{\\sum_{i\\le n} p_i {\\mathbf{1}}_{p_i\\ge \\mathit{threshold}}}\n",
    "{\\sum_{i\\le n} {\\mathbf{1}}_{p_i\\ge \\mathit{threshold}}}\n",
    " $$\n",
    "\n",
    "where ${\\mathbf{1}}_{p_i\\ge \\mathit{threshold}} =\n",
    "1$ if $p_i\\ge \\mathit{threshold}$ and $0$ otherwise.\n"
   ]
  },
  {
   "cell_type": "markdown",
   "metadata": {},
   "source": [
    "Computing dry spells over a season (DJFM, or whole year, or April-October)\n",
    "--------------------------------------------------------------------------\n",
    "1. First slice each year into the season"
   ]
  },
  {
   "cell_type": "code",
   "execution_count": 6,
   "metadata": {},
   "outputs": [],
   "source": [
    "\n",
    "import xarray as xr\n",
    "import numpy as np\n",
    "from collections import namedtuple\n",
    "\n",
    "INPUT_FOLDER = '/home/sr0046/Documents/asa_sophie/Cordex-Mada/data-region/'\n",
    "\n",
    "def file_name(year):\n",
    "    fname = INPUT_FOLDER + model.name + '/' + model.version + '-region-' +\\\n",
    "            str(year) + model.ext\n",
    "    return fname\n",
    "\n",
    "def get_by_file(filex):\n",
    "    '''Get data from filename, slice using Madagascar coordinates'''\n",
    "    ds = xr.open_dataset(filex)\n",
    "    return ds"
   ]
  },
  {
   "cell_type": "code",
   "execution_count": 7,
   "metadata": {},
   "outputs": [],
   "source": [
    "Charact = namedtuple('Charact', 'name contour unit threshold min_val max_val')\n",
    "wd_freq1 = Charact('WDF', np.arange(10, 330, 10, dtype=float), 'days', 1, 0, 1.2)\n",
    "wd_freq30 = Charact('WDF', np.arange(0, 48, 2, dtype=float), 'days', 30, 0, 1)\n",
    "tot_prec = Charact('TOTAL-RAINFALL', np.arange(200, 4800, 200, dtype=float), 'mm', '', 0, 1.5)\n",
    "ave_daily = Charact('AVERAGE-DAILY-RAINFALL', np.arange(0, 22, 1, dtype=float), 'mm', '', 0, 1)\n",
    "dry_spell = Charact('DRY-SPELLS', np.arange(0, 22, 1, dtype=float), 'mm', '', 0, 1)\n",
    "charac = dry_spell\n",
    "Model = namedtuple('Model', 'name version ext lat lon precip plot_pos date_example time')"
   ]
  },
  {
   "cell_type": "code",
   "execution_count": 8,
   "metadata": {
    "lines_to_next_cell": 0
   },
   "outputs": [],
   "source": [
    "XYZ = [151, 152, 153, 154, 155]\n",
    "EXAMPLE_DATES = [360, '2000-10-30']\n",
    "trmm = Model('trmm', 'TRMM_3B42', '.nc4', 'lat', 'lon', 'precipitation', XYZ[0], EXAMPLE_DATES[0],\n",
    "             'time')\n",
    "chirps = Model('chirps', 'chirps-v2', '.nc', 'latitude', 'longitude', 'precip', XYZ[1],\n",
    "               EXAMPLE_DATES[1], 'time')\n",
    "gpcc = Model('gpcc', 'gpcc_v2018', '.nc', 'lat', 'lon', 'precip', XYZ[4], EXAMPLE_DATES[1], 'time')\n",
    "\n",
    "PROJECT_FOLDER = '/home/sr0046/Documents/asa_sophie/Cordex-Mada'\n",
    "PLOT_FOLDER = PROJECT_FOLDER + '/plot-images/climatology-' + charac.name + str(\n",
    "    charac.threshold) + '/'\n",
    "model = gpcc"
   ]
  },
  {
   "cell_type": "code",
   "execution_count": 9,
   "metadata": {},
   "outputs": [],
   "source": [
    "if model.name == 'arc2':\n",
    "    YEARS = range(2001, 2010)\n",
    "else:\n",
    "    YEARS = range(1999, 2010)\n",
    "Season = namedtuple('Season', 'name months')\n",
    "djfm = Season('DJFM', [1, 2, 3, 12])\n",
    "all_year = Season('all-year', range(1, 13))\n",
    "amjjaso = Season('Apr-Oct', [4, 5, 6, 7, 8, 9, 10])\n",
    "seasons = [djfm, amjjaso]\n",
    "seasons = [all_year]\n",
    "season = all_year"
   ]
  },
  {
   "cell_type": "code",
   "execution_count": null,
   "metadata": {},
   "outputs": [],
   "source": []
  },
  {
   "cell_type": "code",
   "execution_count": 12,
   "metadata": {},
   "outputs": [],
   "source": [
    "plot_filename = 'climatology-'+ charac.name + str(charac.threshold) + \\\n",
    "'-' + season.name + '-' + str(YEARS[0]) + '-' + str(YEARS[-1])\n",
    "file = file_name(2000)\n",
    "ds_disk = get_by_file(file)\n",
    "if model.name == 'arc2':\n",
    "    example_precip = ds_disk[model.precip]\n",
    "    example_precip = example_precip.sel(T=model.date_example)\n",
    "else:\n",
    "    example_precip = ds_disk[model.precip]\n",
    "    example_precip = example_precip.sel(time=model.date_example)\n",
    "lat = ds_disk[model.lat]\n",
    "lon = ds_disk[model.lon]\n",
    "precip = ds_disk[model.precip]"
   ]
  },
  {
   "cell_type": "markdown",
   "metadata": {},
   "source": [
    "Split your data into multiple independents grid $(x,y)\\in \\text{lat}\\times \\text{lon}$ "
   ]
  },
  {
   "cell_type": "code",
   "execution_count": 15,
   "metadata": {},
   "outputs": [
    {
     "name": "stdout",
     "output_type": "stream",
     "text": [
      "<xarray.DataArray 'precip' (time: 366, z: 180)>\n",
      "array([[       nan, 0.        , 0.00679798, ...,        nan,        nan,\n",
      "               nan],\n",
      "       [       nan, 0.        , 0.        , ...,        nan,        nan,\n",
      "               nan],\n",
      "       [       nan, 0.27592772, 0.71425134, ...,        nan,        nan,\n",
      "               nan],\n",
      "       ...,\n",
      "       [       nan, 2.7662647 , 3.6127532 , ...,        nan,        nan,\n",
      "               nan],\n",
      "       [       nan, 0.16639857, 0.4421127 , ...,        nan,        nan,\n",
      "               nan],\n",
      "       [       nan, 1.9003671 , 1.9668201 , ...,        nan,        nan,\n",
      "               nan]], dtype=float32)\n",
      "Coordinates:\n",
      "  * time     (time) datetime64[ns] 2000-01-01 2000-01-02 ... 2000-12-31\n",
      "  * z        (z) MultiIndex\n",
      "  - lat      (z) float64 -25.5 -25.5 -25.5 -25.5 ... -11.5 -11.5 -11.5 -11.5\n",
      "  - lon      (z) float64 42.5 43.5 44.5 45.5 46.5 ... 49.5 50.5 51.5 52.5 53.5\n",
      "Attributes:\n",
      "    long_name:  gpcc full data daily product version 2018 precipitation per grid\n",
      "    units:      mm/day\n",
      "    code:       20\n"
     ]
    }
   ],
   "source": [
    "stacked = precip.stack(z=('lat', 'lon'))\n",
    "print(stacked)"
   ]
  },
  {
   "cell_type": "markdown",
   "metadata": {},
   "source": []
  }
 ],
 "metadata": {
  "jupytext": {
   "encoding": "# -*- coding: utf-8 -*-",
   "formats": "ipynb,py"
  },
  "kernelspec": {
   "display_name": "Python 3",
   "language": "python",
   "name": "python3"
  },
  "language_info": {
   "codemirror_mode": {
    "name": "ipython",
    "version": 3
   },
   "file_extension": ".py",
   "mimetype": "text/x-python",
   "name": "python",
   "nbconvert_exporter": "python",
   "pygments_lexer": "ipython3",
   "version": "3.7.6"
  }
 },
 "nbformat": 4,
 "nbformat_minor": 4
}
